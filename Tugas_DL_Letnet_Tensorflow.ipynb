{
  "nbformat": 4,
  "nbformat_minor": 0,
  "metadata": {
    "colab": {
      "name": "Tugas DL Letnet Tensorflow.ipynb",
      "provenance": [],
      "collapsed_sections": []
    },
    "kernelspec": {
      "name": "python3",
      "display_name": "Python 3"
    },
    "language_info": {
      "name": "python"
    }
  },
  "cells": [
    {
      "cell_type": "markdown",
      "source": [
        "# Nama : Eurico Devon Bura Pakilaran\n",
        "# NIM : H071191048\n",
        "# Prodi : Ilmu Komputer\n",
        "# Universitas Hasanuddin"
      ],
      "metadata": {
        "id": "8Pz-ctHeKwV-"
      }
    },
    {
      "cell_type": "code",
      "execution_count": null,
      "metadata": {
        "id": "z4aad2Le-2dX"
      },
      "outputs": [],
      "source": [
        "#!pip install tensorflow\n",
        "\n",
        "import tensorflow as tf\n",
        "import matplotlib.pyplot as plt\n",
        "from tensorflow.keras import datasets, layers, models, losses\n",
        "from tensorflow.python.framework.tensor_shape import TensorShape"
      ]
    },
    {
      "cell_type": "code",
      "source": [
        "(x_train, y_train), (x_test, y_test) = datasets.mnist.load_data()\n",
        "x_train.shape\n",
        "(6000, 28,28)\n"
      ],
      "metadata": {
        "colab": {
          "base_uri": "https://localhost:8080/"
        },
        "id": "Hjt58vDUCpIf",
        "outputId": "e0d8d25e-0b7d-4950-e977-8664e24224a5"
      },
      "execution_count": null,
      "outputs": [
        {
          "output_type": "execute_result",
          "data": {
            "text/plain": [
              "(6000, 28, 28)"
            ]
          },
          "metadata": {},
          "execution_count": 20
        }
      ]
    },
    {
      "cell_type": "markdown",
      "source": [
        "Kita akan melakukan print dengan menggunakan tensorshape, pada tensorshape dasarnya dia melakukan shape berbentuk grafik. pada tensorshape ini perlu untuk import framework "
      ],
      "metadata": {
        "id": "IVqXssgAt7Y2"
      }
    },
    {
      "cell_type": "code",
      "source": [
        "\n",
        "x_train = tf.pad(x_train,[[0,0], [2,2], [4,3]])/255\n",
        "x_test = tf.pad(x_test, [[0,0], [2,2], [4,3]])/255\n",
        "x_train.shape\n",
        "\n",
        "\n",
        "TensorShape([60000, 32, 32])"
      ],
      "metadata": {
        "colab": {
          "base_uri": "https://localhost:8080/"
        },
        "id": "BB5WNmRSEUVr",
        "outputId": "b21caaff-38bd-45a8-d915-0828bf5e054e"
      },
      "execution_count": null,
      "outputs": [
        {
          "output_type": "execute_result",
          "data": {
            "text/plain": [
              "TensorShape([60000, 32, 32])"
            ]
          },
          "metadata": {},
          "execution_count": 21
        }
      ]
    },
    {
      "cell_type": "code",
      "source": [
        "x_train = tf.expand_dims(x_train, axis=3, name=None)\n",
        "x_test = tf.expand_dims(x_test, axis=3, name=None)\n",
        "x_train.shape\n",
        "\n",
        "\n",
        "TensorShape([60000, 32, 32, 1])"
      ],
      "metadata": {
        "colab": {
          "base_uri": "https://localhost:8080/"
        },
        "id": "qlEgH-qzGyiW",
        "outputId": "d5c2b77b-4ce3-4a4b-df97-3ccf983310f0"
      },
      "execution_count": null,
      "outputs": [
        {
          "output_type": "execute_result",
          "data": {
            "text/plain": [
              "TensorShape([60000, 32, 32, 1])"
            ]
          },
          "metadata": {},
          "execution_count": 22
        }
      ]
    },
    {
      "cell_type": "code",
      "source": [
        "x_val = x_train[-2000:,:,:,:] \n",
        "y_val = y_train[-2000:] \n",
        "x_train = x_train[:-2000,:,:,:] \n",
        "y_train = y_train[:-2000]"
      ],
      "metadata": {
        "id": "qaeh4nsPG2h8"
      },
      "execution_count": null,
      "outputs": []
    },
    {
      "cell_type": "code",
      "source": [
        "model = models.Sequential()\n",
        "model.add(layers.Conv2D(6, 5, activation='tanh', input_shape=x_train.shape[1:]))\n",
        "model.add(layers.AveragePooling2D(2))\n",
        "model.add(layers.Activation('sigmoid'))\n",
        "model.add(layers.Conv2D(16, 5, activation='tanh'))\n",
        "model.add(layers.AveragePooling2D(2))\n",
        "model.add(layers.Activation('sigmoid'))\n",
        "model.add(layers.Conv2D(120, 5, activation='tanh'))\n",
        "model.add(layers.Flatten())\n",
        "model.add(layers.Dense(84, activation='tanh'))\n",
        "model.add(layers.Dense(10, activation='softmax'))\n",
        "model.summary()"
      ],
      "metadata": {
        "colab": {
          "base_uri": "https://localhost:8080/"
        },
        "id": "Jlwm4fXNG5F2",
        "outputId": "c688c161-4449-4579-fcba-3f6ea222d4e5"
      },
      "execution_count": null,
      "outputs": [
        {
          "output_type": "stream",
          "name": "stdout",
          "text": [
            "Model: \"sequential_1\"\n",
            "_________________________________________________________________\n",
            " Layer (type)                Output Shape              Param #   \n",
            "=================================================================\n",
            " conv2d_3 (Conv2D)           (None, 28, 31, 6)         156       \n",
            "                                                                 \n",
            " average_pooling2d_2 (Averag  (None, 14, 15, 6)        0         \n",
            " ePooling2D)                                                     \n",
            "                                                                 \n",
            " activation_2 (Activation)   (None, 14, 15, 6)         0         \n",
            "                                                                 \n",
            " conv2d_4 (Conv2D)           (None, 10, 11, 16)        2416      \n",
            "                                                                 \n",
            " average_pooling2d_3 (Averag  (None, 5, 5, 16)         0         \n",
            " ePooling2D)                                                     \n",
            "                                                                 \n",
            " activation_3 (Activation)   (None, 5, 5, 16)          0         \n",
            "                                                                 \n",
            " conv2d_5 (Conv2D)           (None, 1, 1, 120)         48120     \n",
            "                                                                 \n",
            " flatten_1 (Flatten)         (None, 120)               0         \n",
            "                                                                 \n",
            " dense_2 (Dense)             (None, 84)                10164     \n",
            "                                                                 \n",
            " dense_3 (Dense)             (None, 10)                850       \n",
            "                                                                 \n",
            "=================================================================\n",
            "Total params: 61,706\n",
            "Trainable params: 61,706\n",
            "Non-trainable params: 0\n",
            "_________________________________________________________________\n"
          ]
        }
      ]
    },
    {
      "cell_type": "code",
      "source": [
        "model.compile(optimizer='adam', loss=losses.sparse_categorical_crossentropy, metrics=['accuracy'])\n",
        "history = model.fit(x_train, y_train, batch_size=64, epochs=2, validation_data=(x_val, y_val))"
      ],
      "metadata": {
        "colab": {
          "base_uri": "https://localhost:8080/"
        },
        "id": "Ut8ISXUxIFIk",
        "outputId": "2b9c3cb3-14c1-43d9-d6ad-24d4a814f1dc"
      },
      "execution_count": null,
      "outputs": [
        {
          "output_type": "stream",
          "name": "stdout",
          "text": [
            "Epoch 1/2\n",
            "907/907 [==============================] - 33s 36ms/step - loss: 1.3279 - accuracy: 0.5234 - val_loss: 0.2998 - val_accuracy: 0.9175\n",
            "Epoch 2/2\n",
            "907/907 [==============================] - 32s 35ms/step - loss: 0.3426 - accuracy: 0.8935 - val_loss: 0.1839 - val_accuracy: 0.9505\n"
          ]
        }
      ]
    },
    {
      "cell_type": "markdown",
      "source": [
        "Sesudah itu kita akan melakukan print pada plt citra grafik "
      ],
      "metadata": {
        "id": "PlYrtmMDtW8H"
      }
    },
    {
      "cell_type": "code",
      "source": [
        "fig, axs = plt.subplots(2, 1, figsize=(15,15))  \n",
        "axs[0].plot(history.history['loss']) \n",
        "axs[0].plot(history.history['val_loss']) \n",
        "axs[0].title.set_text('Training Loss vs Validation Loss') \n",
        "axs[0].legend(['Train', 'Val'])  \n",
        "axs[1].plot(history.history['accuracy']) \n",
        "axs[1].plot(history.history['val_accuracy']) \n",
        "axs[1].title.set_text('Training Accuracy vs Validation Accuracy') \n",
        "axs[1].legend(['Train', 'Val'])\n",
        "\n",
        "\n"
      ],
      "metadata": {
        "colab": {
          "base_uri": "https://localhost:8080/",
          "height": 896
        },
        "id": "_jpBb_WJIHhn",
        "outputId": "e3a4893a-d714-4528-e500-a776d94d9c08"
      },
      "execution_count": null,
      "outputs": [
        {
          "output_type": "execute_result",
          "data": {
            "text/plain": [
              "<matplotlib.legend.Legend at 0x7fc6cd57ecd0>"
            ]
          },
          "metadata": {},
          "execution_count": 26
        },
        {
          "output_type": "display_data",
          "data": {
            "text/plain": [
              "<Figure size 1080x1080 with 2 Axes>"
            ],
            "image/png": "[encoded data removed]"
          },
          "metadata": {
            "needs_background": "light"
          }
        }
      ]
    },
    {
      "cell_type": "code",
      "source": [
        "model.evaluate(x_test, y_test)"
      ],
      "metadata": {
        "colab": {
          "base_uri": "https://localhost:8080/"
        },
        "id": "i7cC94pvr2w3",
        "outputId": "5bb7f779-1db5-4374-a191-5534ffae90de"
      },
      "execution_count": null,
      "outputs": [
        {
          "output_type": "stream",
          "name": "stdout",
          "text": [
            "313/313 [==============================] - 3s 11ms/step - loss: 0.2669 - accuracy: 0.9184\n"
          ]
        },
        {
          "output_type": "execute_result",
          "data": {
            "text/plain": [
              "[0.2669450342655182, 0.91839998960495]"
            ]
          },
          "metadata": {},
          "execution_count": 27
        }
      ]
    }
  ]
}